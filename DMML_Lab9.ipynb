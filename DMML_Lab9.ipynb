{
 "cells": [
  {
   "cell_type": "code",
   "execution_count": 2,
   "metadata": {
    "id": "mAZ9tI0F7UCv"
   },
   "outputs": [],
   "source": [
    "# Python ≥3.5 is required\n",
    "import sys\n",
    "assert sys.version_info >= (3, 5)\n",
    "\n",
    "# Scikit-Learn ≥0.20 is required\n",
    "import sklearn\n",
    "assert sklearn.__version__ >= \"0.20\"\n",
    "\n",
    "# Common imports\n",
    "import numpy as np\n",
    "import os\n",
    "\n",
    "# to make this notebook's output stable across runs\n",
    "np.random.seed(42)\n",
    "\n",
    "# To plot pretty figures\n",
    "%matplotlib inline\n",
    "import matplotlib as mpl\n",
    "import matplotlib.pyplot as plt\n",
    "mpl.rc('axes', labelsize=20)\n",
    "mpl.rc('xtick', labelsize=16)\n",
    "mpl.rc('ytick', labelsize=16)\n",
    "\n",
    "# Ignore useless warnings (see SciPy issue #5998)\n",
    "import warnings\n",
    "warnings.filterwarnings(action=\"ignore\", message=\"^internal gelsd\")"
   ]
  },
  {
   "cell_type": "code",
   "execution_count": 3,
   "metadata": {
    "id": "Xrl04JX47Ys8"
   },
   "outputs": [],
   "source": [
    "import tarfile\n",
    "import urllib\n",
    "import pandas as pd\n",
    "import urllib.request"
   ]
  },
  {
   "cell_type": "code",
   "execution_count": 4,
   "metadata": {
    "id": "kKBDI7Mm7agC"
   },
   "outputs": [],
   "source": [
    "data = pd.read_csv(\"https://raw.githubusercontent.com/BenCoke12/DMMLG3/main/Breast_Cancer.csv\")"
   ]
  },
  {
   "cell_type": "code",
   "execution_count": 5,
   "metadata": {
    "id": "vy_x7G0k7cOu"
   },
   "outputs": [],
   "source": [
    "from sklearn.preprocessing import OrdinalEncoder\n",
    "enc = OrdinalEncoder()\n",
    "enc.fit(data[[\"Race\", \"Marital Status\", \"T Stage \", \"N Stage\", \"6th Stage\", \"differentiate\", \"Grade\", \"A Stage\", \"Estrogen Status\", \"Progesterone Status\", \"Status\"]])\n",
    "data[[\"Race\", \"Marital Status\", \"T Stage \", \"N Stage\", \"6th Stage\", \"differentiate\", \"Grade\", \"A Stage\", \"Estrogen Status\", \"Progesterone Status\", \"Status\"]] = enc.transform(data[[\"Race\", \"Marital Status\", \"T Stage \", \"N Stage\", \"6th Stage\", \"differentiate\", \"Grade\", \"A Stage\", \"Estrogen Status\", \"Progesterone Status\", \"Status\"]])"
   ]
  },
  {
   "cell_type": "code",
   "execution_count": 6,
   "metadata": {
    "id": "jE5s2D64cFp6"
   },
   "outputs": [],
   "source": [
    "X=data.iloc[:, -1].values\n",
    "#X=data"
   ]
  },
  {
   "cell_type": "code",
   "execution_count": 7,
   "metadata": {
    "colab": {
     "base_uri": "https://localhost:8080/"
    },
    "id": "inHMwnYES4fd",
    "outputId": "617ce6b9-98a6-4fa8-bf25-c23fb1fdc33b"
   },
   "outputs": [
    {
     "data": {
      "text/plain": [
       "(4024,)"
      ]
     },
     "execution_count": 7,
     "metadata": {},
     "output_type": "execute_result"
    }
   ],
   "source": [
    "X.shape"
   ]
  },
  {
   "cell_type": "code",
   "execution_count": 8,
   "metadata": {
    "id": "4Br7nMTnZh7z"
   },
   "outputs": [],
   "source": [
    "Y=data.iloc[:,5]\n",
    "#Y=data['6th Stage']"
   ]
  },
  {
   "cell_type": "code",
   "execution_count": 9,
   "metadata": {
    "id": "dfk283Yv8MQ0"
   },
   "outputs": [],
   "source": [
    "X = data.drop('6th Stage', axis = 1)"
   ]
  },
  {
   "cell_type": "code",
   "execution_count": 10,
   "metadata": {
    "colab": {
     "base_uri": "https://localhost:8080/"
    },
    "id": "3eCuWcD56jmo",
    "outputId": "e2fbfebb-d3da-43cd-d73c-e1f9de7408b6"
   },
   "outputs": [
    {
     "data": {
      "text/plain": [
       "0       0.0\n",
       "1       2.0\n",
       "2       4.0\n",
       "3       0.0\n",
       "4       1.0\n",
       "       ... \n",
       "4019    0.0\n",
       "4020    2.0\n",
       "4021    1.0\n",
       "4022    1.0\n",
       "4023    1.0\n",
       "Name: 6th Stage, Length: 4024, dtype: float64"
      ]
     },
     "execution_count": 10,
     "metadata": {},
     "output_type": "execute_result"
    }
   ],
   "source": [
    "Y"
   ]
  },
  {
   "cell_type": "markdown",
   "metadata": {
    "id": "8RZICBzX5RZZ"
   },
   "source": [
    "# **Linear Regression**"
   ]
  },
  {
   "cell_type": "code",
   "execution_count": 11,
   "metadata": {
    "colab": {
     "base_uri": "https://localhost:8080/"
    },
    "id": "2RAR8ZN85Quz",
    "outputId": "7c38f8f5-c030-470e-ab6b-16b0f9f6cb8c"
   },
   "outputs": [
    {
     "data": {
      "text/plain": [
       "(0.1532715738597632,\n",
       " array([ 7.47709853e-04, -7.31235387e-03, -1.29318983e-02,  7.19816860e-01,\n",
       "         1.25938348e+00,  3.68077677e-03,  2.66567965e-02,  1.03511300e-02,\n",
       "        -3.29849068e-03,  7.87177678e-03, -2.35394018e-02,  6.88622673e-04,\n",
       "         2.52844954e-02, -3.39924610e-04, -3.72880257e-02]))"
      ]
     },
     "execution_count": 11,
     "metadata": {},
     "output_type": "execute_result"
    }
   ],
   "source": [
    "from sklearn.linear_model import LinearRegression\n",
    "\n",
    "lin_reg = LinearRegression()\n",
    "lin_reg.fit(X, Y) #train linear regression on X and y\n",
    "lin_reg.intercept_, lin_reg.coef_ # learning paramete"
   ]
  },
  {
   "cell_type": "code",
   "execution_count": 12,
   "metadata": {
    "id": "GSufr_uf6eD4"
   },
   "outputs": [],
   "source": [
    "from sklearn.model_selection import train_test_split"
   ]
  },
  {
   "cell_type": "code",
   "execution_count": 13,
   "metadata": {
    "id": "vpx4vI3M624V"
   },
   "outputs": [],
   "source": [
    "X_train,X_test,Y_train,Y_test=train_test_split(X,Y,test_size=0.3,random_state=42)"
   ]
  },
  {
   "cell_type": "code",
   "execution_count": 14,
   "metadata": {
    "id": "xerGzBaDV8pE"
   },
   "outputs": [],
   "source": [
    "from sklearn.preprocessing import StandardScaler\n",
    "\n",
    "sc = StandardScaler()\n",
    "X_train = sc.fit_transform(X_train)\n",
    "X_test = sc.transform(X_test)"
   ]
  },
  {
   "cell_type": "code",
   "execution_count": 15,
   "metadata": {
    "colab": {
     "base_uri": "https://localhost:8080/"
    },
    "id": "8m3xa1SC7ItC",
    "outputId": "760b118c-b66e-4cda-fbee-d0e4ad62e594"
   },
   "outputs": [
    {
     "data": {
      "text/plain": [
       "(2816, 15)"
      ]
     },
     "execution_count": 15,
     "metadata": {},
     "output_type": "execute_result"
    }
   ],
   "source": [
    "X_train.shape"
   ]
  },
  {
   "cell_type": "code",
   "execution_count": 16,
   "metadata": {
    "id": "rM098gUn7RkN"
   },
   "outputs": [],
   "source": [
    "from sklearn.linear_model import LinearRegression"
   ]
  },
  {
   "cell_type": "code",
   "execution_count": 17,
   "metadata": {
    "id": "eTDzqyr97Xwv"
   },
   "outputs": [],
   "source": [
    "lr=LinearRegression()"
   ]
  },
  {
   "cell_type": "code",
   "execution_count": 18,
   "metadata": {
    "colab": {
     "base_uri": "https://localhost:8080/"
    },
    "id": "wxcCuih07cUq",
    "outputId": "4a13b4f2-2504-44fc-cfc5-6cf13fba4a9e"
   },
   "outputs": [
    {
     "data": {
      "text/plain": [
       "LinearRegression()"
      ]
     },
     "execution_count": 18,
     "metadata": {},
     "output_type": "execute_result"
    }
   ],
   "source": [
    "lr.fit(X_train,Y_train)"
   ]
  },
  {
   "cell_type": "code",
   "execution_count": 19,
   "metadata": {
    "id": "nb8sh-NY7jSm"
   },
   "outputs": [],
   "source": [
    "y_pred=lr.predict(X_test)"
   ]
  },
  {
   "cell_type": "code",
   "execution_count": 20,
   "metadata": {
    "colab": {
     "base_uri": "https://localhost:8080/"
    },
    "id": "I8bmDPZg7rpn",
    "outputId": "726d0da7-f280-4e59-a6ab-98853d08ef3e"
   },
   "outputs": [
    {
     "data": {
      "text/plain": [
       "array([0.18430119, 0.17949237, 2.27254092, ..., 1.48357644, 0.17201951,\n",
       "       0.77620842])"
      ]
     },
     "execution_count": 20,
     "metadata": {},
     "output_type": "execute_result"
    }
   ],
   "source": [
    "y_pred"
   ]
  },
  {
   "cell_type": "markdown",
   "metadata": {
    "id": "YS-kjLQb93fw"
   },
   "source": [
    "# **Mean Squared Error**"
   ]
  },
  {
   "cell_type": "code",
   "execution_count": 21,
   "metadata": {
    "colab": {
     "base_uri": "https://localhost:8080/"
    },
    "id": "Rh-B709074dC",
    "outputId": "72209b71-bb85-49b7-9722-fec8110d4e14"
   },
   "outputs": [
    {
     "data": {
      "text/plain": [
       "0.3505847512757797"
      ]
     },
     "execution_count": 21,
     "metadata": {},
     "output_type": "execute_result"
    }
   ],
   "source": [
    "from sklearn.metrics import mean_squared_error\n",
    "tree_mse = mean_squared_error(Y_test, y_pred)\n",
    "tree_rmse = np.sqrt(tree_mse)\n",
    "tree_rmse"
   ]
  },
  {
   "cell_type": "markdown",
   "metadata": {
    "id": "QCBl04bQ99b8"
   },
   "source": [
    "# **Mean Absolute Error**"
   ]
  },
  {
   "cell_type": "code",
   "execution_count": 22,
   "metadata": {
    "colab": {
     "base_uri": "https://localhost:8080/"
    },
    "id": "aXWUqfz3-CPL",
    "outputId": "086f54b0-c4c5-41ce-952b-854dc914771d"
   },
   "outputs": [
    {
     "data": {
      "text/plain": [
       "0.2735340117442727"
      ]
     },
     "execution_count": 22,
     "metadata": {},
     "output_type": "execute_result"
    }
   ],
   "source": [
    "from sklearn.metrics import mean_absolute_error\n",
    "\n",
    "tree_mae = mean_absolute_error(Y_test, y_pred)\n",
    "tree_mae"
   ]
  },
  {
   "cell_type": "code",
   "execution_count": 22,
   "metadata": {
    "id": "rKFCDzcp-dkY"
   },
   "outputs": [],
   "source": []
  },
  {
   "cell_type": "markdown",
   "metadata": {
    "id": "2JHcnSNd-d4W"
   },
   "source": [
    "# **Logistic Regression**"
   ]
  },
  {
   "cell_type": "code",
   "execution_count": 23,
   "metadata": {
    "colab": {
     "base_uri": "https://localhost:8080/"
    },
    "id": "k4ahB4-Z-d4Y",
    "outputId": "5dfe923f-0891-4f78-a215-16434dd863af"
   },
   "outputs": [
    {
     "data": {
      "text/plain": [
       "LogisticRegression()"
      ]
     },
     "execution_count": 23,
     "metadata": {},
     "output_type": "execute_result"
    }
   ],
   "source": [
    "from sklearn.linear_model import LogisticRegression\n",
    "\n",
    "log_reg = LogisticRegression()\n",
    "log_reg.fit(X_train, Y_train) #train linear regression on X and y\n"
   ]
  },
  {
   "cell_type": "code",
   "execution_count": 24,
   "metadata": {
    "colab": {
     "base_uri": "https://localhost:8080/"
    },
    "id": "pvixIGq0-rrK",
    "outputId": "1d2d9823-e4ee-434e-8fc4-886bd2ab00a3"
   },
   "outputs": [
    {
     "data": {
      "text/plain": [
       "(array([-0.93752507,  4.45176145,  5.34154713, -5.0712008 , -3.78458271]),\n",
       " array([ 7.47709853e-04, -7.31235387e-03, -1.29318983e-02,  7.19816860e-01,\n",
       "         1.25938348e+00,  3.68077677e-03,  2.66567965e-02,  1.03511300e-02,\n",
       "        -3.29849068e-03,  7.87177678e-03, -2.35394018e-02,  6.88622673e-04,\n",
       "         2.52844954e-02, -3.39924610e-04, -3.72880257e-02]))"
      ]
     },
     "execution_count": 24,
     "metadata": {},
     "output_type": "execute_result"
    }
   ],
   "source": [
    "log_reg.intercept_, lin_reg.coef_ # learning paramete"
   ]
  },
  {
   "cell_type": "code",
   "execution_count": 25,
   "metadata": {
    "colab": {
     "base_uri": "https://localhost:8080/"
    },
    "id": "tdDQaxfx_LPW",
    "outputId": "35890fd2-f49f-48dd-e937-42057ca71a40"
   },
   "outputs": [
    {
     "data": {
      "text/plain": [
       "array([[-1.01206120e-02, -2.72365647e-02, -1.79801647e-02,\n",
       "        -7.53371753e+00, -7.36089186e+00,  1.01635513e-03,\n",
       "        -4.31378712e-02,  2.27854368e-03, -2.16511653e+00,\n",
       "         2.82246150e-02,  5.63987272e-02, -1.02685312e-01,\n",
       "        -2.20971525e+00,  3.42318859e-02, -1.40346374e-01],\n",
       "       [ 2.03521537e-02, -3.48824071e-02, -5.13615604e-03,\n",
       "        -1.03642496e+00, -5.24955833e+00, -1.68694080e-02,\n",
       "         3.42657904e-02,  1.04024549e-01, -8.63491843e-01,\n",
       "         5.36148006e-03, -9.24414081e-03, -5.61108098e-02,\n",
       "        -4.72045897e-01, -1.84688865e-03, -1.74665411e-02],\n",
       "       [ 6.21107596e-02,  8.47094028e-02,  1.23446343e-02,\n",
       "         1.26859106e+00,  2.94257985e+00,  1.41542772e-02,\n",
       "        -2.49274999e-02,  4.37917456e-01,  1.21212984e+00,\n",
       "         9.55213146e-03,  1.32783069e-03, -2.03871550e-02,\n",
       "         1.50550639e-01, -7.04918333e-02, -7.09393329e-02],\n",
       "       [-2.11972585e-02, -7.54115781e-02,  1.22779491e-02,\n",
       "         5.84488479e+00,  2.02542838e+00,  8.84214782e-02,\n",
       "        -8.38925501e-03, -1.84844439e-01,  6.78698438e-01,\n",
       "        -5.00177197e-02,  4.13138899e-02,  8.47562004e-02,\n",
       "         5.66564408e-01,  1.42057894e-01,  2.18913948e-01],\n",
       "       [-5.11450427e-02,  5.28211471e-02, -1.50626262e-03,\n",
       "         1.45666664e+00,  7.64244196e+00, -8.67227025e-02,\n",
       "         4.21888357e-02, -3.59376110e-01,  1.13778010e+00,\n",
       "         6.87949319e-03, -8.97963070e-02,  9.44270761e-02,\n",
       "         1.96464610e+00, -1.03951058e-01,  9.83830040e-03]])"
      ]
     },
     "execution_count": 25,
     "metadata": {},
     "output_type": "execute_result"
    }
   ],
   "source": [
    "log_reg.coef_ "
   ]
  },
  {
   "cell_type": "code",
   "execution_count": 26,
   "metadata": {
    "id": "7lDysyJl-d4a"
   },
   "outputs": [],
   "source": [
    "log_reg=LogisticRegression()"
   ]
  },
  {
   "cell_type": "code",
   "execution_count": 27,
   "metadata": {
    "colab": {
     "base_uri": "https://localhost:8080/"
    },
    "id": "PiQJzenL-d4a",
    "outputId": "f7907705-c23d-4cb9-ac19-bad100b67287"
   },
   "outputs": [
    {
     "data": {
      "text/plain": [
       "LogisticRegression()"
      ]
     },
     "execution_count": 27,
     "metadata": {},
     "output_type": "execute_result"
    }
   ],
   "source": [
    "log_reg.fit(X_train,Y_train)"
   ]
  },
  {
   "cell_type": "code",
   "execution_count": 28,
   "metadata": {
    "id": "3rZBOdND-d4b"
   },
   "outputs": [],
   "source": [
    "y_pred=log_reg.predict(X_test)"
   ]
  },
  {
   "cell_type": "code",
   "execution_count": 29,
   "metadata": {
    "colab": {
     "base_uri": "https://localhost:8080/"
    },
    "id": "xgUsL1Ec-d4b",
    "outputId": "63218995-0e68-4cd7-b043-c2ce265c2f9c"
   },
   "outputs": [
    {
     "data": {
      "text/plain": [
       "array([0., 0., 2., ..., 2., 0., 1.])"
      ]
     },
     "execution_count": 29,
     "metadata": {},
     "output_type": "execute_result"
    }
   ],
   "source": [
    "y_pred"
   ]
  },
  {
   "cell_type": "markdown",
   "metadata": {
    "id": "HXwHNQgP-d4c"
   },
   "source": [
    "# **Mean Squared Error**"
   ]
  },
  {
   "cell_type": "code",
   "execution_count": 30,
   "metadata": {
    "colab": {
     "base_uri": "https://localhost:8080/"
    },
    "id": "6ZXZSSS8-d4c",
    "outputId": "e13f7a1f-fad7-4f59-efa5-9c6c545eb4c7"
   },
   "outputs": [
    {
     "data": {
      "text/plain": [
       "0.0575435337648436"
      ]
     },
     "execution_count": 30,
     "metadata": {},
     "output_type": "execute_result"
    }
   ],
   "source": [
    "from sklearn.metrics import mean_squared_error\n",
    "tree_mse = mean_squared_error(Y_test, y_pred)\n",
    "tree_rmse = np.sqrt(tree_mse)\n",
    "tree_rmse"
   ]
  },
  {
   "cell_type": "markdown",
   "metadata": {
    "id": "zPx5Pazs-d4d"
   },
   "source": [
    "# **Mean Absolute Error**"
   ]
  },
  {
   "cell_type": "code",
   "execution_count": 31,
   "metadata": {
    "colab": {
     "base_uri": "https://localhost:8080/"
    },
    "id": "hLJ0Pp4M-d4d",
    "outputId": "23bf6490-7cb4-4300-d739-bd7badfad7b7"
   },
   "outputs": [
    {
     "data": {
      "text/plain": [
       "0.0033112582781456954"
      ]
     },
     "execution_count": 31,
     "metadata": {},
     "output_type": "execute_result"
    }
   ],
   "source": [
    "from sklearn.metrics import mean_absolute_error\n",
    "\n",
    "tree_mae = mean_absolute_error(Y_test, y_pred)\n",
    "tree_mae"
   ]
  },
  {
   "cell_type": "code",
   "execution_count": 32,
   "metadata": {
    "colab": {
     "base_uri": "https://localhost:8080/"
    },
    "id": "VfdoXcho9L-w",
    "outputId": "3c984cfb-7c31-4a35-d6b9-2f733f143ed3"
   },
   "outputs": [
    {
     "data": {
      "text/plain": [
       "array([ 1.07637535e-02, -1.07470567e-03, -9.90666729e-03,  5.61895153e-01,\n",
       "        8.73027785e-01,  4.76838987e-04,  1.54222429e-02,  6.58020801e-03,\n",
       "       -7.19869988e-02, -7.65214424e-04, -1.46444691e-02,  8.06809836e-04,\n",
       "        1.48113420e-01, -6.26661657e-03, -1.81448255e-02])"
      ]
     },
     "execution_count": 32,
     "metadata": {},
     "output_type": "execute_result"
    }
   ],
   "source": [
    "theta_best_svd, residuals, rank, s = np.linalg.lstsq(X_train, Y_train, rcond=1e-6)\n",
    "theta_best_svd # Least-squares solution"
   ]
  },
  {
   "cell_type": "markdown",
   "metadata": {
    "id": "4Qwsk5nSvfSO"
   },
   "source": [
    "# **Linear Regression with learning parameters and batch size**: "
   ]
  },
  {
   "cell_type": "code",
   "execution_count": 33,
   "metadata": {
    "id": "7SkjntQTBpJe"
   },
   "outputs": [],
   "source": [
    "def get_full_sample_matrix(samples):\n",
    "    samples_matrix = samples.copy()\n",
    "    if samples.ndim == 1:\n",
    "        samples_matrix = samples_matrix.reshape(-1, 1)\n",
    "        \n",
    "    ones_vec = np.ones((samples_matrix.shape[0], 1), dtype=samples.dtype)\n",
    "    return np.hstack([ones_vec, samples_matrix])"
   ]
  },
  {
   "cell_type": "code",
   "execution_count": 34,
   "metadata": {
    "id": "7H-3bFhXAXEV"
   },
   "outputs": [],
   "source": [
    "def grad_desc(X, Y, rate = 0.001, iterations = 100):#learning rate and batch size\n",
    "    w = np.zeros((X.shape[1], 1))\n",
    "    for _ in range(iterations):\n",
    "        errors = Y - X.dot(w)\n",
    "        grad = -(X.T).dot(errors)\n",
    "        w = w - rate*grad\n",
    "    return w"
   ]
  },
  {
   "cell_type": "code",
   "execution_count": 35,
   "metadata": {
    "id": "BHG3foPuAuBH"
   },
   "outputs": [],
   "source": [
    "w=grad_desc(X,Y)"
   ]
  },
  {
   "cell_type": "code",
   "execution_count": 36,
   "metadata": {
    "colab": {
     "base_uri": "https://localhost:8080/",
     "height": 549
    },
    "id": "qXiCgQV9A-5l",
    "outputId": "4f7ea41e-12e8-4b8f-ea06-15c42cb8ac6d"
   },
   "outputs": [
    {
     "data": {
      "text/html": [
       "\n",
       "  <div id=\"df-7e7479a8-2be1-42e6-8b2d-d47ea9a09adf\">\n",
       "    <div class=\"colab-df-container\">\n",
       "      <div>\n",
       "<style scoped>\n",
       "    .dataframe tbody tr th:only-of-type {\n",
       "        vertical-align: middle;\n",
       "    }\n",
       "\n",
       "    .dataframe tbody tr th {\n",
       "        vertical-align: top;\n",
       "    }\n",
       "\n",
       "    .dataframe thead th {\n",
       "        text-align: right;\n",
       "    }\n",
       "</style>\n",
       "<table border=\"1\" class=\"dataframe\">\n",
       "  <thead>\n",
       "    <tr style=\"text-align: right;\">\n",
       "      <th></th>\n",
       "      <th>0</th>\n",
       "      <th>1</th>\n",
       "      <th>2</th>\n",
       "      <th>3</th>\n",
       "      <th>4</th>\n",
       "      <th>5</th>\n",
       "      <th>6</th>\n",
       "      <th>7</th>\n",
       "      <th>8</th>\n",
       "      <th>9</th>\n",
       "      <th>...</th>\n",
       "      <th>4014</th>\n",
       "      <th>4015</th>\n",
       "      <th>4016</th>\n",
       "      <th>4017</th>\n",
       "      <th>4018</th>\n",
       "      <th>4019</th>\n",
       "      <th>4020</th>\n",
       "      <th>4021</th>\n",
       "      <th>4022</th>\n",
       "      <th>4023</th>\n",
       "    </tr>\n",
       "  </thead>\n",
       "  <tbody>\n",
       "    <tr>\n",
       "      <th>Age</th>\n",
       "      <td>0.0</td>\n",
       "      <td>NaN</td>\n",
       "      <td>NaN</td>\n",
       "      <td>NaN</td>\n",
       "      <td>NaN</td>\n",
       "      <td>NaN</td>\n",
       "      <td>NaN</td>\n",
       "      <td>NaN</td>\n",
       "      <td>NaN</td>\n",
       "      <td>NaN</td>\n",
       "      <td>...</td>\n",
       "      <td>NaN</td>\n",
       "      <td>NaN</td>\n",
       "      <td>NaN</td>\n",
       "      <td>NaN</td>\n",
       "      <td>NaN</td>\n",
       "      <td>NaN</td>\n",
       "      <td>NaN</td>\n",
       "      <td>NaN</td>\n",
       "      <td>NaN</td>\n",
       "      <td>NaN</td>\n",
       "    </tr>\n",
       "    <tr>\n",
       "      <th>Race</th>\n",
       "      <td>0.0</td>\n",
       "      <td>NaN</td>\n",
       "      <td>NaN</td>\n",
       "      <td>NaN</td>\n",
       "      <td>NaN</td>\n",
       "      <td>NaN</td>\n",
       "      <td>NaN</td>\n",
       "      <td>NaN</td>\n",
       "      <td>NaN</td>\n",
       "      <td>NaN</td>\n",
       "      <td>...</td>\n",
       "      <td>NaN</td>\n",
       "      <td>NaN</td>\n",
       "      <td>NaN</td>\n",
       "      <td>NaN</td>\n",
       "      <td>NaN</td>\n",
       "      <td>NaN</td>\n",
       "      <td>NaN</td>\n",
       "      <td>NaN</td>\n",
       "      <td>NaN</td>\n",
       "      <td>NaN</td>\n",
       "    </tr>\n",
       "    <tr>\n",
       "      <th>Marital Status</th>\n",
       "      <td>0.0</td>\n",
       "      <td>NaN</td>\n",
       "      <td>NaN</td>\n",
       "      <td>NaN</td>\n",
       "      <td>NaN</td>\n",
       "      <td>NaN</td>\n",
       "      <td>NaN</td>\n",
       "      <td>NaN</td>\n",
       "      <td>NaN</td>\n",
       "      <td>NaN</td>\n",
       "      <td>...</td>\n",
       "      <td>NaN</td>\n",
       "      <td>NaN</td>\n",
       "      <td>NaN</td>\n",
       "      <td>NaN</td>\n",
       "      <td>NaN</td>\n",
       "      <td>NaN</td>\n",
       "      <td>NaN</td>\n",
       "      <td>NaN</td>\n",
       "      <td>NaN</td>\n",
       "      <td>NaN</td>\n",
       "    </tr>\n",
       "    <tr>\n",
       "      <th>T Stage</th>\n",
       "      <td>0.0</td>\n",
       "      <td>NaN</td>\n",
       "      <td>NaN</td>\n",
       "      <td>NaN</td>\n",
       "      <td>NaN</td>\n",
       "      <td>NaN</td>\n",
       "      <td>NaN</td>\n",
       "      <td>NaN</td>\n",
       "      <td>NaN</td>\n",
       "      <td>NaN</td>\n",
       "      <td>...</td>\n",
       "      <td>NaN</td>\n",
       "      <td>NaN</td>\n",
       "      <td>NaN</td>\n",
       "      <td>NaN</td>\n",
       "      <td>NaN</td>\n",
       "      <td>NaN</td>\n",
       "      <td>NaN</td>\n",
       "      <td>NaN</td>\n",
       "      <td>NaN</td>\n",
       "      <td>NaN</td>\n",
       "    </tr>\n",
       "    <tr>\n",
       "      <th>N Stage</th>\n",
       "      <td>0.0</td>\n",
       "      <td>NaN</td>\n",
       "      <td>NaN</td>\n",
       "      <td>NaN</td>\n",
       "      <td>NaN</td>\n",
       "      <td>NaN</td>\n",
       "      <td>NaN</td>\n",
       "      <td>NaN</td>\n",
       "      <td>NaN</td>\n",
       "      <td>NaN</td>\n",
       "      <td>...</td>\n",
       "      <td>NaN</td>\n",
       "      <td>NaN</td>\n",
       "      <td>NaN</td>\n",
       "      <td>NaN</td>\n",
       "      <td>NaN</td>\n",
       "      <td>NaN</td>\n",
       "      <td>NaN</td>\n",
       "      <td>NaN</td>\n",
       "      <td>NaN</td>\n",
       "      <td>NaN</td>\n",
       "    </tr>\n",
       "    <tr>\n",
       "      <th>differentiate</th>\n",
       "      <td>0.0</td>\n",
       "      <td>NaN</td>\n",
       "      <td>NaN</td>\n",
       "      <td>NaN</td>\n",
       "      <td>NaN</td>\n",
       "      <td>NaN</td>\n",
       "      <td>NaN</td>\n",
       "      <td>NaN</td>\n",
       "      <td>NaN</td>\n",
       "      <td>NaN</td>\n",
       "      <td>...</td>\n",
       "      <td>NaN</td>\n",
       "      <td>NaN</td>\n",
       "      <td>NaN</td>\n",
       "      <td>NaN</td>\n",
       "      <td>NaN</td>\n",
       "      <td>NaN</td>\n",
       "      <td>NaN</td>\n",
       "      <td>NaN</td>\n",
       "      <td>NaN</td>\n",
       "      <td>NaN</td>\n",
       "    </tr>\n",
       "    <tr>\n",
       "      <th>Grade</th>\n",
       "      <td>0.0</td>\n",
       "      <td>NaN</td>\n",
       "      <td>NaN</td>\n",
       "      <td>NaN</td>\n",
       "      <td>NaN</td>\n",
       "      <td>NaN</td>\n",
       "      <td>NaN</td>\n",
       "      <td>NaN</td>\n",
       "      <td>NaN</td>\n",
       "      <td>NaN</td>\n",
       "      <td>...</td>\n",
       "      <td>NaN</td>\n",
       "      <td>NaN</td>\n",
       "      <td>NaN</td>\n",
       "      <td>NaN</td>\n",
       "      <td>NaN</td>\n",
       "      <td>NaN</td>\n",
       "      <td>NaN</td>\n",
       "      <td>NaN</td>\n",
       "      <td>NaN</td>\n",
       "      <td>NaN</td>\n",
       "    </tr>\n",
       "    <tr>\n",
       "      <th>A Stage</th>\n",
       "      <td>0.0</td>\n",
       "      <td>NaN</td>\n",
       "      <td>NaN</td>\n",
       "      <td>NaN</td>\n",
       "      <td>NaN</td>\n",
       "      <td>NaN</td>\n",
       "      <td>NaN</td>\n",
       "      <td>NaN</td>\n",
       "      <td>NaN</td>\n",
       "      <td>NaN</td>\n",
       "      <td>...</td>\n",
       "      <td>NaN</td>\n",
       "      <td>NaN</td>\n",
       "      <td>NaN</td>\n",
       "      <td>NaN</td>\n",
       "      <td>NaN</td>\n",
       "      <td>NaN</td>\n",
       "      <td>NaN</td>\n",
       "      <td>NaN</td>\n",
       "      <td>NaN</td>\n",
       "      <td>NaN</td>\n",
       "    </tr>\n",
       "    <tr>\n",
       "      <th>Tumor Size</th>\n",
       "      <td>0.0</td>\n",
       "      <td>NaN</td>\n",
       "      <td>NaN</td>\n",
       "      <td>NaN</td>\n",
       "      <td>NaN</td>\n",
       "      <td>NaN</td>\n",
       "      <td>NaN</td>\n",
       "      <td>NaN</td>\n",
       "      <td>NaN</td>\n",
       "      <td>NaN</td>\n",
       "      <td>...</td>\n",
       "      <td>NaN</td>\n",
       "      <td>NaN</td>\n",
       "      <td>NaN</td>\n",
       "      <td>NaN</td>\n",
       "      <td>NaN</td>\n",
       "      <td>NaN</td>\n",
       "      <td>NaN</td>\n",
       "      <td>NaN</td>\n",
       "      <td>NaN</td>\n",
       "      <td>NaN</td>\n",
       "    </tr>\n",
       "    <tr>\n",
       "      <th>Estrogen Status</th>\n",
       "      <td>0.0</td>\n",
       "      <td>NaN</td>\n",
       "      <td>NaN</td>\n",
       "      <td>NaN</td>\n",
       "      <td>NaN</td>\n",
       "      <td>NaN</td>\n",
       "      <td>NaN</td>\n",
       "      <td>NaN</td>\n",
       "      <td>NaN</td>\n",
       "      <td>NaN</td>\n",
       "      <td>...</td>\n",
       "      <td>NaN</td>\n",
       "      <td>NaN</td>\n",
       "      <td>NaN</td>\n",
       "      <td>NaN</td>\n",
       "      <td>NaN</td>\n",
       "      <td>NaN</td>\n",
       "      <td>NaN</td>\n",
       "      <td>NaN</td>\n",
       "      <td>NaN</td>\n",
       "      <td>NaN</td>\n",
       "    </tr>\n",
       "    <tr>\n",
       "      <th>Progesterone Status</th>\n",
       "      <td>0.0</td>\n",
       "      <td>NaN</td>\n",
       "      <td>NaN</td>\n",
       "      <td>NaN</td>\n",
       "      <td>NaN</td>\n",
       "      <td>NaN</td>\n",
       "      <td>NaN</td>\n",
       "      <td>NaN</td>\n",
       "      <td>NaN</td>\n",
       "      <td>NaN</td>\n",
       "      <td>...</td>\n",
       "      <td>NaN</td>\n",
       "      <td>NaN</td>\n",
       "      <td>NaN</td>\n",
       "      <td>NaN</td>\n",
       "      <td>NaN</td>\n",
       "      <td>NaN</td>\n",
       "      <td>NaN</td>\n",
       "      <td>NaN</td>\n",
       "      <td>NaN</td>\n",
       "      <td>NaN</td>\n",
       "    </tr>\n",
       "    <tr>\n",
       "      <th>Regional Node Examined</th>\n",
       "      <td>0.0</td>\n",
       "      <td>NaN</td>\n",
       "      <td>NaN</td>\n",
       "      <td>NaN</td>\n",
       "      <td>NaN</td>\n",
       "      <td>NaN</td>\n",
       "      <td>NaN</td>\n",
       "      <td>NaN</td>\n",
       "      <td>NaN</td>\n",
       "      <td>NaN</td>\n",
       "      <td>...</td>\n",
       "      <td>NaN</td>\n",
       "      <td>NaN</td>\n",
       "      <td>NaN</td>\n",
       "      <td>NaN</td>\n",
       "      <td>NaN</td>\n",
       "      <td>NaN</td>\n",
       "      <td>NaN</td>\n",
       "      <td>NaN</td>\n",
       "      <td>NaN</td>\n",
       "      <td>NaN</td>\n",
       "    </tr>\n",
       "    <tr>\n",
       "      <th>Reginol Node Positive</th>\n",
       "      <td>0.0</td>\n",
       "      <td>NaN</td>\n",
       "      <td>NaN</td>\n",
       "      <td>NaN</td>\n",
       "      <td>NaN</td>\n",
       "      <td>NaN</td>\n",
       "      <td>NaN</td>\n",
       "      <td>NaN</td>\n",
       "      <td>NaN</td>\n",
       "      <td>NaN</td>\n",
       "      <td>...</td>\n",
       "      <td>NaN</td>\n",
       "      <td>NaN</td>\n",
       "      <td>NaN</td>\n",
       "      <td>NaN</td>\n",
       "      <td>NaN</td>\n",
       "      <td>NaN</td>\n",
       "      <td>NaN</td>\n",
       "      <td>NaN</td>\n",
       "      <td>NaN</td>\n",
       "      <td>NaN</td>\n",
       "    </tr>\n",
       "    <tr>\n",
       "      <th>Survival Months</th>\n",
       "      <td>0.0</td>\n",
       "      <td>NaN</td>\n",
       "      <td>NaN</td>\n",
       "      <td>NaN</td>\n",
       "      <td>NaN</td>\n",
       "      <td>NaN</td>\n",
       "      <td>NaN</td>\n",
       "      <td>NaN</td>\n",
       "      <td>NaN</td>\n",
       "      <td>NaN</td>\n",
       "      <td>...</td>\n",
       "      <td>NaN</td>\n",
       "      <td>NaN</td>\n",
       "      <td>NaN</td>\n",
       "      <td>NaN</td>\n",
       "      <td>NaN</td>\n",
       "      <td>NaN</td>\n",
       "      <td>NaN</td>\n",
       "      <td>NaN</td>\n",
       "      <td>NaN</td>\n",
       "      <td>NaN</td>\n",
       "    </tr>\n",
       "    <tr>\n",
       "      <th>Status</th>\n",
       "      <td>0.0</td>\n",
       "      <td>NaN</td>\n",
       "      <td>NaN</td>\n",
       "      <td>NaN</td>\n",
       "      <td>NaN</td>\n",
       "      <td>NaN</td>\n",
       "      <td>NaN</td>\n",
       "      <td>NaN</td>\n",
       "      <td>NaN</td>\n",
       "      <td>NaN</td>\n",
       "      <td>...</td>\n",
       "      <td>NaN</td>\n",
       "      <td>NaN</td>\n",
       "      <td>NaN</td>\n",
       "      <td>NaN</td>\n",
       "      <td>NaN</td>\n",
       "      <td>NaN</td>\n",
       "      <td>NaN</td>\n",
       "      <td>NaN</td>\n",
       "      <td>NaN</td>\n",
       "      <td>NaN</td>\n",
       "    </tr>\n",
       "  </tbody>\n",
       "</table>\n",
       "<p>15 rows × 4024 columns</p>\n",
       "</div>\n",
       "      <button class=\"colab-df-convert\" onclick=\"convertToInteractive('df-7e7479a8-2be1-42e6-8b2d-d47ea9a09adf')\"\n",
       "              title=\"Convert this dataframe to an interactive table.\"\n",
       "              style=\"display:none;\">\n",
       "        \n",
       "  <svg xmlns=\"http://www.w3.org/2000/svg\" height=\"24px\"viewBox=\"0 0 24 24\"\n",
       "       width=\"24px\">\n",
       "    <path d=\"M0 0h24v24H0V0z\" fill=\"none\"/>\n",
       "    <path d=\"M18.56 5.44l.94 2.06.94-2.06 2.06-.94-2.06-.94-.94-2.06-.94 2.06-2.06.94zm-11 1L8.5 8.5l.94-2.06 2.06-.94-2.06-.94L8.5 2.5l-.94 2.06-2.06.94zm10 10l.94 2.06.94-2.06 2.06-.94-2.06-.94-.94-2.06-.94 2.06-2.06.94z\"/><path d=\"M17.41 7.96l-1.37-1.37c-.4-.4-.92-.59-1.43-.59-.52 0-1.04.2-1.43.59L10.3 9.45l-7.72 7.72c-.78.78-.78 2.05 0 2.83L4 21.41c.39.39.9.59 1.41.59.51 0 1.02-.2 1.41-.59l7.78-7.78 2.81-2.81c.8-.78.8-2.07 0-2.86zM5.41 20L4 18.59l7.72-7.72 1.47 1.35L5.41 20z\"/>\n",
       "  </svg>\n",
       "      </button>\n",
       "      \n",
       "  <style>\n",
       "    .colab-df-container {\n",
       "      display:flex;\n",
       "      flex-wrap:wrap;\n",
       "      gap: 12px;\n",
       "    }\n",
       "\n",
       "    .colab-df-convert {\n",
       "      background-color: #E8F0FE;\n",
       "      border: none;\n",
       "      border-radius: 50%;\n",
       "      cursor: pointer;\n",
       "      display: none;\n",
       "      fill: #1967D2;\n",
       "      height: 32px;\n",
       "      padding: 0 0 0 0;\n",
       "      width: 32px;\n",
       "    }\n",
       "\n",
       "    .colab-df-convert:hover {\n",
       "      background-color: #E2EBFA;\n",
       "      box-shadow: 0px 1px 2px rgba(60, 64, 67, 0.3), 0px 1px 3px 1px rgba(60, 64, 67, 0.15);\n",
       "      fill: #174EA6;\n",
       "    }\n",
       "\n",
       "    [theme=dark] .colab-df-convert {\n",
       "      background-color: #3B4455;\n",
       "      fill: #D2E3FC;\n",
       "    }\n",
       "\n",
       "    [theme=dark] .colab-df-convert:hover {\n",
       "      background-color: #434B5C;\n",
       "      box-shadow: 0px 1px 3px 1px rgba(0, 0, 0, 0.15);\n",
       "      filter: drop-shadow(0px 1px 2px rgba(0, 0, 0, 0.3));\n",
       "      fill: #FFFFFF;\n",
       "    }\n",
       "  </style>\n",
       "\n",
       "      <script>\n",
       "        const buttonEl =\n",
       "          document.querySelector('#df-7e7479a8-2be1-42e6-8b2d-d47ea9a09adf button.colab-df-convert');\n",
       "        buttonEl.style.display =\n",
       "          google.colab.kernel.accessAllowed ? 'block' : 'none';\n",
       "\n",
       "        async function convertToInteractive(key) {\n",
       "          const element = document.querySelector('#df-7e7479a8-2be1-42e6-8b2d-d47ea9a09adf');\n",
       "          const dataTable =\n",
       "            await google.colab.kernel.invokeFunction('convertToInteractive',\n",
       "                                                     [key], {});\n",
       "          if (!dataTable) return;\n",
       "\n",
       "          const docLinkHtml = 'Like what you see? Visit the ' +\n",
       "            '<a target=\"_blank\" href=https://colab.research.google.com/notebooks/data_table.ipynb>data table notebook</a>'\n",
       "            + ' to learn more about interactive tables.';\n",
       "          element.innerHTML = '';\n",
       "          dataTable['output_type'] = 'display_data';\n",
       "          await google.colab.output.renderOutput(dataTable, element);\n",
       "          const docLink = document.createElement('div');\n",
       "          docLink.innerHTML = docLinkHtml;\n",
       "          element.appendChild(docLink);\n",
       "        }\n",
       "      </script>\n",
       "    </div>\n",
       "  </div>\n",
       "  "
      ],
      "text/plain": [
       "                        0     1     2     3     4     5     6     7     8     \\\n",
       "Age                      0.0   NaN   NaN   NaN   NaN   NaN   NaN   NaN   NaN   \n",
       "Race                     0.0   NaN   NaN   NaN   NaN   NaN   NaN   NaN   NaN   \n",
       "Marital Status           0.0   NaN   NaN   NaN   NaN   NaN   NaN   NaN   NaN   \n",
       "T Stage                  0.0   NaN   NaN   NaN   NaN   NaN   NaN   NaN   NaN   \n",
       "N Stage                  0.0   NaN   NaN   NaN   NaN   NaN   NaN   NaN   NaN   \n",
       "differentiate            0.0   NaN   NaN   NaN   NaN   NaN   NaN   NaN   NaN   \n",
       "Grade                    0.0   NaN   NaN   NaN   NaN   NaN   NaN   NaN   NaN   \n",
       "A Stage                  0.0   NaN   NaN   NaN   NaN   NaN   NaN   NaN   NaN   \n",
       "Tumor Size               0.0   NaN   NaN   NaN   NaN   NaN   NaN   NaN   NaN   \n",
       "Estrogen Status          0.0   NaN   NaN   NaN   NaN   NaN   NaN   NaN   NaN   \n",
       "Progesterone Status      0.0   NaN   NaN   NaN   NaN   NaN   NaN   NaN   NaN   \n",
       "Regional Node Examined   0.0   NaN   NaN   NaN   NaN   NaN   NaN   NaN   NaN   \n",
       "Reginol Node Positive    0.0   NaN   NaN   NaN   NaN   NaN   NaN   NaN   NaN   \n",
       "Survival Months          0.0   NaN   NaN   NaN   NaN   NaN   NaN   NaN   NaN   \n",
       "Status                   0.0   NaN   NaN   NaN   NaN   NaN   NaN   NaN   NaN   \n",
       "\n",
       "                        9     ...  4014  4015  4016  4017  4018  4019  4020  \\\n",
       "Age                      NaN  ...   NaN   NaN   NaN   NaN   NaN   NaN   NaN   \n",
       "Race                     NaN  ...   NaN   NaN   NaN   NaN   NaN   NaN   NaN   \n",
       "Marital Status           NaN  ...   NaN   NaN   NaN   NaN   NaN   NaN   NaN   \n",
       "T Stage                  NaN  ...   NaN   NaN   NaN   NaN   NaN   NaN   NaN   \n",
       "N Stage                  NaN  ...   NaN   NaN   NaN   NaN   NaN   NaN   NaN   \n",
       "differentiate            NaN  ...   NaN   NaN   NaN   NaN   NaN   NaN   NaN   \n",
       "Grade                    NaN  ...   NaN   NaN   NaN   NaN   NaN   NaN   NaN   \n",
       "A Stage                  NaN  ...   NaN   NaN   NaN   NaN   NaN   NaN   NaN   \n",
       "Tumor Size               NaN  ...   NaN   NaN   NaN   NaN   NaN   NaN   NaN   \n",
       "Estrogen Status          NaN  ...   NaN   NaN   NaN   NaN   NaN   NaN   NaN   \n",
       "Progesterone Status      NaN  ...   NaN   NaN   NaN   NaN   NaN   NaN   NaN   \n",
       "Regional Node Examined   NaN  ...   NaN   NaN   NaN   NaN   NaN   NaN   NaN   \n",
       "Reginol Node Positive    NaN  ...   NaN   NaN   NaN   NaN   NaN   NaN   NaN   \n",
       "Survival Months          NaN  ...   NaN   NaN   NaN   NaN   NaN   NaN   NaN   \n",
       "Status                   NaN  ...   NaN   NaN   NaN   NaN   NaN   NaN   NaN   \n",
       "\n",
       "                        4021  4022  4023  \n",
       "Age                      NaN   NaN   NaN  \n",
       "Race                     NaN   NaN   NaN  \n",
       "Marital Status           NaN   NaN   NaN  \n",
       "T Stage                  NaN   NaN   NaN  \n",
       "N Stage                  NaN   NaN   NaN  \n",
       "differentiate            NaN   NaN   NaN  \n",
       "Grade                    NaN   NaN   NaN  \n",
       "A Stage                  NaN   NaN   NaN  \n",
       "Tumor Size               NaN   NaN   NaN  \n",
       "Estrogen Status          NaN   NaN   NaN  \n",
       "Progesterone Status      NaN   NaN   NaN  \n",
       "Regional Node Examined   NaN   NaN   NaN  \n",
       "Reginol Node Positive    NaN   NaN   NaN  \n",
       "Survival Months          NaN   NaN   NaN  \n",
       "Status                   NaN   NaN   NaN  \n",
       "\n",
       "[15 rows x 4024 columns]"
      ]
     },
     "execution_count": 36,
     "metadata": {},
     "output_type": "execute_result"
    }
   ],
   "source": [
    "w"
   ]
  },
  {
   "cell_type": "markdown",
   "metadata": {
    "id": "zLMvuyk0WA3z"
   },
   "source": [
    "# **SGD Regressor**"
   ]
  },
  {
   "cell_type": "code",
   "execution_count": 37,
   "metadata": {
    "id": "nr2jWJjRVevz"
   },
   "outputs": [],
   "source": [
    "from sklearn.linear_model import SGDRegressor"
   ]
  },
  {
   "cell_type": "code",
   "execution_count": 38,
   "metadata": {
    "id": "JcXkQJLaVj-p"
   },
   "outputs": [],
   "source": [
    "sgdr = SGDRegressor(max_iter=1000).fit(X_train, Y_train)"
   ]
  },
  {
   "cell_type": "code",
   "execution_count": 39,
   "metadata": {
    "colab": {
     "base_uri": "https://localhost:8080/"
    },
    "id": "me8x_JOtVlL2",
    "outputId": "39ad021e-9ddb-4d7b-d9b3-b64da7de4aee"
   },
   "outputs": [
    {
     "data": {
      "text/plain": [
       "0.920729599938158"
      ]
     },
     "execution_count": 39,
     "metadata": {},
     "output_type": "execute_result"
    }
   ],
   "source": [
    "sgdr.score(X_test,Y_test)"
   ]
  },
  {
   "cell_type": "code",
   "execution_count": 40,
   "metadata": {
    "colab": {
     "base_uri": "https://localhost:8080/"
    },
    "id": "sXMzLZmzVmfK",
    "outputId": "9961681b-76e5-46a9-dcdf-12e46a47b085"
   },
   "outputs": [
    {
     "data": {
      "text/plain": [
       "0.12068974376949786"
      ]
     },
     "execution_count": 40,
     "metadata": {},
     "output_type": "execute_result"
    }
   ],
   "source": [
    "mean_squared_error(Y_train, sgdr.predict(X_train))"
   ]
  },
  {
   "cell_type": "code",
   "execution_count": 41,
   "metadata": {
    "colab": {
     "base_uri": "https://localhost:8080/"
    },
    "id": "RLSNJTL1Vns5",
    "outputId": "f084415d-fb92-4b15-c377-a7f2296bb336"
   },
   "outputs": [
    {
     "data": {
      "text/plain": [
       "0.12294260713946333"
      ]
     },
     "execution_count": 41,
     "metadata": {},
     "output_type": "execute_result"
    }
   ],
   "source": [
    "mean_squared_error(Y_test, sgdr.predict(X_test))"
   ]
  }
 ],
 "metadata": {
  "colab": {
   "collapsed_sections": [],
   "provenance": []
  },
  "kernelspec": {
   "display_name": "Python 3 (ipykernel)",
   "language": "python",
   "name": "python3"
  },
  "language_info": {
   "codemirror_mode": {
    "name": "ipython",
    "version": 3
   },
   "file_extension": ".py",
   "mimetype": "text/x-python",
   "name": "python",
   "nbconvert_exporter": "python",
   "pygments_lexer": "ipython3",
   "version": "3.9.12"
  }
 },
 "nbformat": 4,
 "nbformat_minor": 1
}
